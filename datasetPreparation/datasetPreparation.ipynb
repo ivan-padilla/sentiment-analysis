{
 "cells": [
  {
   "cell_type": "markdown",
   "id": "f2ff63cc",
   "metadata": {},
   "source": [
    "# Dataset Preparation"
   ]
  },
  {
   "cell_type": "code",
   "execution_count": 1,
   "id": "d3e9f5a8",
   "metadata": {},
   "outputs": [],
   "source": [
    "import pandas as pd\n",
    "import matplotlib.pyplot as plt\n",
    "import seaborn as sns"
   ]
  },
  {
   "cell_type": "code",
   "execution_count": 2,
   "id": "e72f3c47",
   "metadata": {},
   "outputs": [
    {
     "data": {
      "text/html": [
       "<div>\n",
       "<style scoped>\n",
       "    .dataframe tbody tr th:only-of-type {\n",
       "        vertical-align: middle;\n",
       "    }\n",
       "\n",
       "    .dataframe tbody tr th {\n",
       "        vertical-align: top;\n",
       "    }\n",
       "\n",
       "    .dataframe thead th {\n",
       "        text-align: right;\n",
       "    }\n",
       "</style>\n",
       "<table border=\"1\" class=\"dataframe\">\n",
       "  <thead>\n",
       "    <tr style=\"text-align: right;\">\n",
       "      <th></th>\n",
       "      <th>userGender</th>\n",
       "      <th>comment</th>\n",
       "    </tr>\n",
       "  </thead>\n",
       "  <tbody>\n",
       "    <tr>\n",
       "      <th>0</th>\n",
       "      <td>MALE</td>\n",
       "      <td>This is interfering an internal matter of a so...</td>\n",
       "    </tr>\n",
       "    <tr>\n",
       "      <th>1</th>\n",
       "      <td>FEMALE</td>\n",
       "      <td>Justice sa pagkamatay ni marcos😔🖕🏻</td>\n",
       "    </tr>\n",
       "    <tr>\n",
       "      <th>2</th>\n",
       "      <td>FEMALE</td>\n",
       "      <td>Walang name rodrigo roa duterte sa 2 website n...</td>\n",
       "    </tr>\n",
       "    <tr>\n",
       "      <th>3</th>\n",
       "      <td>FEMALE</td>\n",
       "      <td>Kathang isip nyo lng Yan wag nyo Ng pagtakpan ...</td>\n",
       "    </tr>\n",
       "    <tr>\n",
       "      <th>4</th>\n",
       "      <td>FEMALE</td>\n",
       "      <td>🙏🙏🙏</td>\n",
       "    </tr>\n",
       "  </tbody>\n",
       "</table>\n",
       "</div>"
      ],
      "text/plain": [
       "  userGender                                            comment\n",
       "0       MALE  This is interfering an internal matter of a so...\n",
       "1     FEMALE                 Justice sa pagkamatay ni marcos😔🖕🏻\n",
       "2     FEMALE  Walang name rodrigo roa duterte sa 2 website n...\n",
       "3     FEMALE  Kathang isip nyo lng Yan wag nyo Ng pagtakpan ...\n",
       "4     FEMALE                                                🙏🙏🙏"
      ]
     },
     "execution_count": 2,
     "metadata": {},
     "output_type": "execute_result"
    }
   ],
   "source": [
    "df_1 = pd.read_csv('joined.csv')\n",
    "df_1.drop(['facebookUrl',\n",
    "           'feedbackId', \n",
    "           'id', \n",
    "           'postUrl', \n",
    "           'reactionCount', \n",
    "           'userId', \n",
    "           'userIsVerified', \n",
    "           'userName', \n",
    "           'userProfileImageUrl', \n",
    "           'userSubscribeStatus', \n",
    "           'userUrl',\n",
    "           'commentDate'],\n",
    "           axis = 1, inplace = True)\n",
    "df_1['comment'] = df_1['commentText']\n",
    "df_1.drop('commentText', axis = 1, inplace = True)\n",
    "df_1.head()"
   ]
  },
  {
   "cell_type": "code",
   "execution_count": 3,
   "id": "84721e91",
   "metadata": {},
   "outputs": [
    {
     "data": {
      "text/html": [
       "<div>\n",
       "<style scoped>\n",
       "    .dataframe tbody tr th:only-of-type {\n",
       "        vertical-align: middle;\n",
       "    }\n",
       "\n",
       "    .dataframe tbody tr th {\n",
       "        vertical-align: top;\n",
       "    }\n",
       "\n",
       "    .dataframe thead th {\n",
       "        text-align: right;\n",
       "    }\n",
       "</style>\n",
       "<table border=\"1\" class=\"dataframe\">\n",
       "  <thead>\n",
       "    <tr style=\"text-align: right;\">\n",
       "      <th></th>\n",
       "      <th>userGender</th>\n",
       "      <th>comment</th>\n",
       "    </tr>\n",
       "  </thead>\n",
       "  <tbody>\n",
       "    <tr>\n",
       "      <th>0</th>\n",
       "      <td>NEUTER</td>\n",
       "      <td>You can download the Rappler Communities app h...</td>\n",
       "    </tr>\n",
       "    <tr>\n",
       "      <th>1</th>\n",
       "      <td>MALE</td>\n",
       "      <td>It is about time to answer whether former pres...</td>\n",
       "    </tr>\n",
       "    <tr>\n",
       "      <th>2</th>\n",
       "      <td>FEMALE</td>\n",
       "      <td>Philippines has not produced a good leader eve...</td>\n",
       "    </tr>\n",
       "    <tr>\n",
       "      <th>3</th>\n",
       "      <td>FEMALE</td>\n",
       "      <td>Whatever you do to others will come back to yo...</td>\n",
       "    </tr>\n",
       "    <tr>\n",
       "      <th>4</th>\n",
       "      <td>FEMALE</td>\n",
       "      <td>Honestly, I feel sorry for him(because of his ...</td>\n",
       "    </tr>\n",
       "  </tbody>\n",
       "</table>\n",
       "</div>"
      ],
      "text/plain": [
       "  userGender                                            comment\n",
       "0     NEUTER  You can download the Rappler Communities app h...\n",
       "1       MALE  It is about time to answer whether former pres...\n",
       "2     FEMALE  Philippines has not produced a good leader eve...\n",
       "3     FEMALE  Whatever you do to others will come back to yo...\n",
       "4     FEMALE  Honestly, I feel sorry for him(because of his ..."
      ]
     },
     "execution_count": 3,
     "metadata": {},
     "output_type": "execute_result"
    }
   ],
   "source": [
    "df_2 = pd.read_csv('rappler.csv')\n",
    "df_2.drop(['action_id',\n",
    "           'author_avatar',\n",
    "           'author_profile_url',\n",
    "           'author_user_id',\n",
    "           'author_username',\n",
    "           'comment_id',\n",
    "           'input',\n",
    "           'like_count',\n",
    "           'post/author_avatar', \n",
    "           'post/author_profile_url',\n",
    "           'post/author_user_id', \n",
    "           'post/author_username', \n",
    "           'post/post_id',\n",
    "           'post/post_url',\n",
    "           'reply_count',\n",
    "           'create_time'], \n",
    "           axis = 1, inplace = True)\n",
    "\n",
    "df_2['userGender'] = df_2['gender']\n",
    "df_2['comment'] = df_2['text']\n",
    "df_2.drop(['gender', 'text'], axis = 1, inplace = True)\n",
    "df_2.head()"
   ]
  },
  {
   "cell_type": "code",
   "execution_count": 4,
   "id": "385e314e",
   "metadata": {},
   "outputs": [
    {
     "data": {
      "text/html": [
       "<div>\n",
       "<style scoped>\n",
       "    .dataframe tbody tr th:only-of-type {\n",
       "        vertical-align: middle;\n",
       "    }\n",
       "\n",
       "    .dataframe tbody tr th {\n",
       "        vertical-align: top;\n",
       "    }\n",
       "\n",
       "    .dataframe thead th {\n",
       "        text-align: right;\n",
       "    }\n",
       "</style>\n",
       "<table border=\"1\" class=\"dataframe\">\n",
       "  <thead>\n",
       "    <tr style=\"text-align: right;\">\n",
       "      <th></th>\n",
       "      <th>userGender</th>\n",
       "      <th>comment</th>\n",
       "    </tr>\n",
       "  </thead>\n",
       "  <tbody>\n",
       "    <tr>\n",
       "      <th>0</th>\n",
       "      <td>MALE</td>\n",
       "      <td>This is interfering an internal matter of a so...</td>\n",
       "    </tr>\n",
       "    <tr>\n",
       "      <th>1</th>\n",
       "      <td>FEMALE</td>\n",
       "      <td>Justice sa pagkamatay ni marcos😔🖕🏻</td>\n",
       "    </tr>\n",
       "    <tr>\n",
       "      <th>2</th>\n",
       "      <td>FEMALE</td>\n",
       "      <td>Walang name rodrigo roa duterte sa 2 website n...</td>\n",
       "    </tr>\n",
       "    <tr>\n",
       "      <th>3</th>\n",
       "      <td>FEMALE</td>\n",
       "      <td>Kathang isip nyo lng Yan wag nyo Ng pagtakpan ...</td>\n",
       "    </tr>\n",
       "    <tr>\n",
       "      <th>4</th>\n",
       "      <td>FEMALE</td>\n",
       "      <td>🙏🙏🙏</td>\n",
       "    </tr>\n",
       "    <tr>\n",
       "      <th>...</th>\n",
       "      <td>...</td>\n",
       "      <td>...</td>\n",
       "    </tr>\n",
       "    <tr>\n",
       "      <th>495</th>\n",
       "      <td>MALE</td>\n",
       "      <td>No one is above the law!!!</td>\n",
       "    </tr>\n",
       "    <tr>\n",
       "      <th>496</th>\n",
       "      <td>FEMALE</td>\n",
       "      <td>‘About time justice to be served!</td>\n",
       "    </tr>\n",
       "    <tr>\n",
       "      <th>497</th>\n",
       "      <td>MALE</td>\n",
       "      <td>Long over due. Let him felt what others felt b...</td>\n",
       "    </tr>\n",
       "    <tr>\n",
       "      <th>498</th>\n",
       "      <td>MALE</td>\n",
       "      <td>He must be given a fair chance in the court, i...</td>\n",
       "    </tr>\n",
       "    <tr>\n",
       "      <th>499</th>\n",
       "      <td>FEMALE</td>\n",
       "      <td>His name is not on the list n ICC website\\n.ba...</td>\n",
       "    </tr>\n",
       "  </tbody>\n",
       "</table>\n",
       "<p>1089 rows × 2 columns</p>\n",
       "</div>"
      ],
      "text/plain": [
       "    userGender                                            comment\n",
       "0         MALE  This is interfering an internal matter of a so...\n",
       "1       FEMALE                 Justice sa pagkamatay ni marcos😔🖕🏻\n",
       "2       FEMALE  Walang name rodrigo roa duterte sa 2 website n...\n",
       "3       FEMALE  Kathang isip nyo lng Yan wag nyo Ng pagtakpan ...\n",
       "4       FEMALE                                                🙏🙏🙏\n",
       "..         ...                                                ...\n",
       "495       MALE                         No one is above the law!!!\n",
       "496     FEMALE                  ‘About time justice to be served!\n",
       "497       MALE  Long over due. Let him felt what others felt b...\n",
       "498       MALE  He must be given a fair chance in the court, i...\n",
       "499     FEMALE  His name is not on the list n ICC website\\n.ba...\n",
       "\n",
       "[1089 rows x 2 columns]"
      ]
     },
     "execution_count": 4,
     "metadata": {},
     "output_type": "execute_result"
    }
   ],
   "source": [
    "df = pd.concat([df_1, df_2], axis = 0)\n",
    "df = df[~df['userGender'].str.contains('NEUTER', na=False)]\n",
    "df = df[~df['userGender'].str.contains('UNKNOWN', na=False)]\n",
    "df"
   ]
  },
  {
   "cell_type": "code",
   "execution_count": 5,
   "id": "32b5a722",
   "metadata": {},
   "outputs": [],
   "source": [
    "from sklearn.model_selection import train_test_split"
   ]
  },
  {
   "cell_type": "code",
   "execution_count": 6,
   "id": "e0f4e50b",
   "metadata": {},
   "outputs": [],
   "source": [
    "X = df['userGender']\n",
    "y = df['comment']\n",
    "\n",
    "X_train, X_test, y_train, y_test = train_test_split(X, y, test_size=.50, random_state = 101)"
   ]
  },
  {
   "cell_type": "code",
   "execution_count": 7,
   "id": "13c0e156",
   "metadata": {},
   "outputs": [],
   "source": [
    "train = pd.DataFrame({'userGender':X_train,'comment':y_train}, )\n",
    "test = pd.DataFrame({'userGender':X_test,'comment':y_test})"
   ]
  },
  {
   "cell_type": "code",
   "execution_count": 8,
   "id": "149a137d",
   "metadata": {},
   "outputs": [],
   "source": [
    "train.reset_index().to_excel('training.xlsx')"
   ]
  },
  {
   "cell_type": "code",
   "execution_count": 9,
   "id": "3780edc8",
   "metadata": {},
   "outputs": [],
   "source": [
    "test.reset_index().to_excel('validation.xlsx')"
   ]
  },
  {
   "cell_type": "code",
   "execution_count": null,
   "id": "9ed3aec9",
   "metadata": {},
   "outputs": [],
   "source": []
  }
 ],
 "metadata": {
  "kernelspec": {
   "display_name": "Python 3",
   "language": "python",
   "name": "python3"
  },
  "language_info": {
   "codemirror_mode": {
    "name": "ipython",
    "version": 3
   },
   "file_extension": ".py",
   "mimetype": "text/x-python",
   "name": "python",
   "nbconvert_exporter": "python",
   "pygments_lexer": "ipython3",
   "version": "3.12.3"
  }
 },
 "nbformat": 4,
 "nbformat_minor": 5
}
